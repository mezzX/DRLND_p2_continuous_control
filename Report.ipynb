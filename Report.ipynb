{
 "cells": [
  {
   "cell_type": "markdown",
   "metadata": {},
   "source": [
    "# Continuous Control\n",
    "\n",
    "---\n",
    "\n",
    "In this notebook, you will learn how to use the Unity ML-Agents environment for the second project of the [Deep Reinforcement Learning Nanodegree](https://www.udacity.com/course/deep-reinforcement-learning-nanodegree--nd893) program.\n",
    "\n",
    "### 1. Start the Environment\n",
    "\n",
    "We begin by importing the necessary packages.  If the code cell below returns an error, please revisit the project instructions to double-check that you have installed [Unity ML-Agents](https://github.com/Unity-Technologies/ml-agents/blob/master/docs/Installation.md) and [NumPy](http://www.numpy.org/)."
   ]
  },
  {
   "cell_type": "code",
   "execution_count": 1,
   "metadata": {},
   "outputs": [],
   "source": [
    "from unityagents import UnityEnvironment\n",
    "import numpy as np\n",
    "from collections import deque\n",
    "import matplotlib.pyplot as plt\n",
    "import torch\n",
    "from itertools import count\n",
    "%matplotlib inline\n",
    "\n",
    "from ddpg_agent import Agent"
   ]
  },
  {
   "cell_type": "markdown",
   "metadata": {},
   "source": [
    "Next, we will start the environment!  **_Before running the code cell below_**, change the `file_name` parameter to match the location of the Unity environment that you downloaded.\n",
    "\n",
    "- **Mac**: `\"path/to/Reacher.app\"`\n",
    "- **Windows** (x86): `\"path/to/Reacher_Windows_x86/Reacher.exe\"`\n",
    "- **Windows** (x86_64): `\"path/to/Reacher_Windows_x86_64/Reacher.exe\"`\n",
    "- **Linux** (x86): `\"path/to/Reacher_Linux/Reacher.x86\"`\n",
    "- **Linux** (x86_64): `\"path/to/Reacher_Linux/Reacher.x86_64\"`\n",
    "- **Linux** (x86, headless): `\"path/to/Reacher_Linux_NoVis/Reacher.x86\"`\n",
    "- **Linux** (x86_64, headless): `\"path/to/Reacher_Linux_NoVis/Reacher.x86_64\"`\n",
    "\n",
    "For instance, if you are using a Mac, then you downloaded `Reacher.app`.  If this file is in the same folder as the notebook, then the line below should appear as follows:\n",
    "```\n",
    "env = UnityEnvironment(file_name=\"Reacher.app\")\n",
    "```"
   ]
  },
  {
   "cell_type": "code",
   "execution_count": 2,
   "metadata": {},
   "outputs": [
    {
     "name": "stderr",
     "output_type": "stream",
     "text": [
      "INFO:unityagents:\n",
      "'Academy' started successfully!\n",
      "Unity Academy name: Academy\n",
      "        Number of Brains: 1\n",
      "        Number of External Brains : 1\n",
      "        Lesson number : 0\n",
      "        Reset Parameters :\n",
      "\t\tgoal_speed -> 1.0\n",
      "\t\tgoal_size -> 5.0\n",
      "Unity brain name: ReacherBrain\n",
      "        Number of Visual Observations (per agent): 0\n",
      "        Vector Observation space type: continuous\n",
      "        Vector Observation space size (per agent): 33\n",
      "        Number of stacked Vector Observation: 1\n",
      "        Vector Action space type: continuous\n",
      "        Vector Action space size (per agent): 4\n",
      "        Vector Action descriptions: , , , \n"
     ]
    }
   ],
   "source": [
    "env = UnityEnvironment(file_name='M:/programing/python/udacity/DRL_NanoDegree/p2_continuous-control/Reacher_Windows_x86_64/Reacher.exe')"
   ]
  },
  {
   "cell_type": "markdown",
   "metadata": {},
   "source": [
    "Environments contain **_brains_** which are responsible for deciding the actions of their associated agents. Here we check for the first brain available, and set it as the default brain we will be controlling from Python."
   ]
  },
  {
   "cell_type": "code",
   "execution_count": 3,
   "metadata": {},
   "outputs": [],
   "source": [
    "# get the default brain\n",
    "brain_name = env.brain_names[0]\n",
    "brain = env.brains[brain_name]"
   ]
  },
  {
   "cell_type": "markdown",
   "metadata": {},
   "source": [
    "### 2. Examine the State and Action Spaces\n",
    "\n",
    "In this environment, a double-jointed arm can move to target locations. A reward of `+0.1` is provided for each step that the agent's hand is in the goal location. Thus, the goal of your agent is to maintain its position at the target location for as many time steps as possible.\n",
    "\n",
    "The observation space consists of `33` variables corresponding to position, rotation, velocity, and angular velocities of the arm.  Each action is a vector with four numbers, corresponding to torque applicable to two joints.  Every entry in the action vector must be a number between `-1` and `1`.\n",
    "\n",
    "Run the code cell below to print some information about the environment."
   ]
  },
  {
   "cell_type": "code",
   "execution_count": 4,
   "metadata": {},
   "outputs": [
    {
     "name": "stdout",
     "output_type": "stream",
     "text": [
      "Number of agents: 20\n",
      "Size of each action: 4\n",
      "There are 20 agents. Each observes a state with length: 33\n",
      "The state for the first agent looks like: [ 0.00000000e+00 -4.00000000e+00  0.00000000e+00  1.00000000e+00\n",
      " -0.00000000e+00 -0.00000000e+00 -4.37113883e-08  0.00000000e+00\n",
      "  0.00000000e+00  0.00000000e+00  0.00000000e+00  0.00000000e+00\n",
      "  0.00000000e+00  0.00000000e+00 -1.00000000e+01  0.00000000e+00\n",
      "  1.00000000e+00 -0.00000000e+00 -0.00000000e+00 -4.37113883e-08\n",
      "  0.00000000e+00  0.00000000e+00  0.00000000e+00  0.00000000e+00\n",
      "  0.00000000e+00  0.00000000e+00  5.75471878e+00 -1.00000000e+00\n",
      "  5.55726624e+00  0.00000000e+00  1.00000000e+00  0.00000000e+00\n",
      " -1.68164849e-01]\n"
     ]
    }
   ],
   "source": [
    "# reset the environment\n",
    "env_info = env.reset(train_mode=True)[brain_name]\n",
    "\n",
    "# number of agents\n",
    "num_agents = len(env_info.agents)\n",
    "print('Number of agents:', num_agents)\n",
    "\n",
    "# size of each action\n",
    "action_size = brain.vector_action_space_size\n",
    "print('Size of each action:', action_size)\n",
    "\n",
    "# examine the state space \n",
    "states = env_info.vector_observations\n",
    "state_size = states.shape[1]\n",
    "print('There are {} agents. Each observes a state with length: {}'.format(states.shape[0], state_size))\n",
    "print('The state for the first agent looks like:', states[0])"
   ]
  },
  {
   "cell_type": "markdown",
   "metadata": {},
   "source": [
    "When finished, you can close the environment."
   ]
  },
  {
   "cell_type": "markdown",
   "metadata": {},
   "source": [
    "### 3. Learning Algorithm\n",
    "\n",
    "#### DDPG\n",
    "\n",
    "For this project I used the Deep Determenistic Policy Gradient(DDPG) algorithm to solve the environment. By using this, the agent was able to solve the environment in 136 episodes. The agent then continued to improve for another 59 episodes. The algorithm works by having the agent act in the environment and collecting rewards. These experiences are then stored in a buffer and used at a later time to train the neural networks. A neural network, called actor network is used to approximate the optimal policy from which the best believed action is selected. During training another neural network, called the critic network is used to estimate value function which is then used to evaluate the action selected by the actor network. By using these two networks in tandem, the agent is able to solve complex enviroments that contain both a continous state and action space. Since the actor network is designed to always output the best belived action, noise is added to help with exploration/exploitation. An Ornstein-Uhlenbeck process is used to generate random noise which is then scaled by a decaying epsilon value. The scaled noise is then added to the output of the actor network and finally clipped so as to keep it within the desired range.\n",
    "\n",
    "#### Hyperparameters\n",
    "\n",
    "<b>BUFFER_SIZE</b>........100,000......The maximum size of the replay buffer.<br>\n",
    "<b>BATCH_SIZE</b>.................256......The number of samples taken from the replay buffer during traing.<br>\n",
    "<b>GAMMA</b>........................0.99......The discount rate for future rewards.<br>\n",
    "<b>TAU</b>.............................0.001......Used during soft_update to control how much of the local model is mixed into the target model.<br>\n",
    "<b>LR_ACTOR</b>................0.001.......The Learning Rate used during training for the actor network.<br>\n",
    "<b>LR_CRITIC</b>.................0.001.......The Learning Rate used during training for the critic network.<br>\n",
    "<b>WEIGHT_DECAY</b>..............0.......The weight decay use for training the critic network.<br>\n",
    "<b>UPDATE_EVERY</b>.............20......How many steps inbetween learning steps.<br>\n",
    "<b>NUM_UPDATES</b>..............10......How many times the network is updated each learning steps.<br>\n",
    "<b>EPSILON</b>........................1.0......The starting epsilon value used with an OU Noise process to help with exploration/exploitation.<br>\n",
    "<b>EPSILON_DECAY</b>....0.9999......How much epsilon is decayed by after each time step.<br>\n",
    "\n",
    "#### Model Architecture\n",
    "\n",
    "##### Actor Network\n",
    "Batch Nomalization Layer(BatchNorm1d with a size of 33 x Number of Agents)<br>\n",
    "Input Layer(Fully Connected Layer with a size of 33 x Number of Agents x 128)<br>\n",
    "Relu Activation<br>\n",
    "Batch Nomalization Layer(BatchNorm1d with a size of 128)<br>\n",
    "Hidden Layer(Fully Connected Layer with a size of 128x256)<br>\n",
    "Relu Activation<br>\n",
    "Batch Nomalization Layer(BatchNorm1d with a size of 256)<br>\n",
    "Output Layer(Fully Connected Layer with a size of 128x4)<br>\n",
    "Tanh Activation\n",
    "\n",
    "##### Critic Network\n",
    "Batch Nomalization Layer(BatchNorm1d with a size of 33 x Number of Agents)<br>\n",
    "Input Layer(Fully Connected Layer with a size of 33 x Number of Agents x 128)<br>\n",
    "Leaky Relu Activation<br>\n",
    "Concat(Actions are added to the output of the previous layer)\n",
    "Hidden Layer(Fully Connected Layer with a size of 132x256)<br>\n",
    "Leaky Relu Activation<br>\n",
    "Output Layer(Fully Connected Layer with a size of 256x1)"
   ]
  },
  {
   "cell_type": "code",
   "execution_count": 7,
   "metadata": {},
   "outputs": [],
   "source": [
    "def ddpg(agent, max_t=1000, print_every=25):\n",
    "    scores_deque = deque(maxlen=100)\n",
    "    scores = []\n",
    "    mov_avgs = []\n",
    "    best_score = -np.inf\n",
    "    best_ep = 0\n",
    "    goal = 30.\n",
    "    solved = False\n",
    "    for i_episode in count():\n",
    "        env_info = env.reset(train_mode=True)[brain_name]\n",
    "        states = env_info.vector_observations\n",
    "        agent.reset()\n",
    "        score = np.zeros(num_agents)\n",
    "        for t in range(max_t):\n",
    "            actions = agent.act(states)\n",
    "            env_info = env.step(actions)[brain_name]\n",
    "            next_states = env_info.vector_observations\n",
    "            rewards = env_info.rewards\n",
    "            dones = env_info.local_done\n",
    "            agent.step(states, actions, rewards, next_states, dones, t)\n",
    "            states = next_states\n",
    "            score += rewards\n",
    "            if np.any(dones):\n",
    "                break\n",
    "                \n",
    "        scores_deque.append(np.mean(score))\n",
    "        scores.append(np.mean(score))\n",
    "        mov_avgs.append(np.mean(scores_deque))\n",
    "        \n",
    "        if i_episode % print_every == 0:\n",
    "            print('\\rEpisode {}\\tAverage Score: {:.2f}'.format(i_episode, np.mean(scores_deque)))\n",
    "        \n",
    "        if mov_avgs[-1] > goal:\n",
    "            if not solved:\n",
    "                print('\\nEnvironment solved in {:d} episodes!\\tAverage Score: {:.2f}'.format(i_episode, np.mean(scores_deque)))\n",
    "                solved = True\n",
    "                best_score = mov_avgs[-1]\n",
    "                best_ep = i_episode\n",
    "                torch.save(agent.actor_local.state_dict(), 'checkpoint_actor_reacher_20.pth')\n",
    "                torch.save(agent.critic_local.state_dict(), 'checkpoint_critic_reacher_20.pth')\n",
    "                \n",
    "            elif mov_avgs[-1] > best_score:\n",
    "                print('Best episode so far!\\\n",
    "                \\nEpisode {}\\tAverage Score: {:.4f}'.format(i_episode, np.mean(scores_deque)))\n",
    "                best_ep = i_episode\n",
    "                best_score = mov_avgs[-1]\n",
    "                torch.save(agent.actor_local.state_dict(), 'checkpoint_actor_reacher_20.pth')\n",
    "                torch.save(agent.critic_local.state_dict(), 'checkpoint_critic_reacher_20.pth')\n",
    "                \n",
    "            elif (i_episode - best_ep) >= 200:\n",
    "                print('Training stopped. Best score not matched or exceeded for 200 episodes')\n",
    "                break\n",
    "                \n",
    "            else:\n",
    "                continue\n",
    "                \n",
    "    return scores, mov_avgs"
   ]
  },
  {
   "cell_type": "code",
   "execution_count": 8,
   "metadata": {},
   "outputs": [
    {
     "name": "stdout",
     "output_type": "stream",
     "text": [
      "Episode 0\tAverage Score: 0.48\n",
      "Episode 25\tAverage Score: 1.10\n",
      "Episode 50\tAverage Score: 3.17\n",
      "Episode 75\tAverage Score: 10.00\n",
      "Episode 100\tAverage Score: 16.81\n",
      "Episode 125\tAverage Score: 26.25\n",
      "\n",
      "Environment solved in 136 episodes!\tAverage Score: 30.20\n",
      "Best episode so far!                \n",
      "Episode 137\tAverage Score: 30.5405\n",
      "Best episode so far!                \n",
      "Episode 138\tAverage Score: 30.8879\n",
      "Best episode so far!                \n",
      "Episode 139\tAverage Score: 31.2269\n",
      "Best episode so far!                \n",
      "Episode 140\tAverage Score: 31.5613\n",
      "Best episode so far!                \n",
      "Episode 141\tAverage Score: 31.8874\n",
      "Best episode so far!                \n",
      "Episode 142\tAverage Score: 32.2202\n",
      "Best episode so far!                \n",
      "Episode 143\tAverage Score: 32.5424\n",
      "Best episode so far!                \n",
      "Episode 144\tAverage Score: 32.8651\n",
      "Best episode so far!                \n",
      "Episode 145\tAverage Score: 33.1783\n",
      "Best episode so far!                \n",
      "Episode 146\tAverage Score: 33.4952\n",
      "Best episode so far!                \n",
      "Episode 147\tAverage Score: 33.7970\n",
      "Best episode so far!                \n",
      "Episode 148\tAverage Score: 34.0810\n",
      "Best episode so far!                \n",
      "Episode 149\tAverage Score: 34.3491\n",
      "Episode 150\tAverage Score: 34.60\n",
      "Best episode so far!                \n",
      "Episode 150\tAverage Score: 34.6045\n",
      "Best episode so far!                \n",
      "Episode 151\tAverage Score: 34.8708\n",
      "Best episode so far!                \n",
      "Episode 152\tAverage Score: 35.1303\n",
      "Best episode so far!                \n",
      "Episode 153\tAverage Score: 35.3889\n",
      "Best episode so far!                \n",
      "Episode 154\tAverage Score: 35.6547\n",
      "Best episode so far!                \n",
      "Episode 155\tAverage Score: 35.9017\n",
      "Best episode so far!                \n",
      "Episode 156\tAverage Score: 36.1399\n",
      "Best episode so far!                \n",
      "Episode 157\tAverage Score: 36.3480\n",
      "Best episode so far!                \n",
      "Episode 158\tAverage Score: 36.5514\n",
      "Best episode so far!                \n",
      "Episode 159\tAverage Score: 36.7435\n",
      "Best episode so far!                \n",
      "Episode 160\tAverage Score: 36.9266\n",
      "Best episode so far!                \n",
      "Episode 161\tAverage Score: 37.0881\n",
      "Best episode so far!                \n",
      "Episode 162\tAverage Score: 37.2700\n",
      "Best episode so far!                \n",
      "Episode 163\tAverage Score: 37.4246\n",
      "Best episode so far!                \n",
      "Episode 164\tAverage Score: 37.5809\n",
      "Best episode so far!                \n",
      "Episode 165\tAverage Score: 37.6998\n",
      "Best episode so far!                \n",
      "Episode 166\tAverage Score: 37.8186\n",
      "Best episode so far!                \n",
      "Episode 167\tAverage Score: 37.9117\n",
      "Best episode so far!                \n",
      "Episode 168\tAverage Score: 38.0061\n",
      "Best episode so far!                \n",
      "Episode 169\tAverage Score: 38.0656\n",
      "Best episode so far!                \n",
      "Episode 170\tAverage Score: 38.1194\n",
      "Best episode so far!                \n",
      "Episode 171\tAverage Score: 38.1609\n",
      "Best episode so far!                \n",
      "Episode 172\tAverage Score: 38.2011\n",
      "Best episode so far!                \n",
      "Episode 173\tAverage Score: 38.2400\n",
      "Best episode so far!                \n",
      "Episode 174\tAverage Score: 38.2766\n",
      "Episode 175\tAverage Score: 38.30\n",
      "Best episode so far!                \n",
      "Episode 175\tAverage Score: 38.3026\n",
      "Best episode so far!                \n",
      "Episode 176\tAverage Score: 38.3284\n",
      "Best episode so far!                \n",
      "Episode 177\tAverage Score: 38.3590\n",
      "Best episode so far!                \n",
      "Episode 178\tAverage Score: 38.3957\n",
      "Best episode so far!                \n",
      "Episode 179\tAverage Score: 38.4183\n",
      "Best episode so far!                \n",
      "Episode 180\tAverage Score: 38.4507\n",
      "Best episode so far!                \n",
      "Episode 181\tAverage Score: 38.4793\n",
      "Best episode so far!                \n",
      "Episode 182\tAverage Score: 38.5134\n",
      "Best episode so far!                \n",
      "Episode 183\tAverage Score: 38.5482\n",
      "Best episode so far!                \n",
      "Episode 184\tAverage Score: 38.5801\n",
      "Best episode so far!                \n",
      "Episode 185\tAverage Score: 38.5927\n",
      "Best episode so far!                \n",
      "Episode 186\tAverage Score: 38.6110\n",
      "Best episode so far!                \n",
      "Episode 187\tAverage Score: 38.6350\n",
      "Best episode so far!                \n",
      "Episode 188\tAverage Score: 38.6658\n",
      "Best episode so far!                \n",
      "Episode 189\tAverage Score: 38.6737\n",
      "Best episode so far!                \n",
      "Episode 190\tAverage Score: 38.6932\n",
      "Best episode so far!                \n",
      "Episode 191\tAverage Score: 38.7000\n",
      "Best episode so far!                \n",
      "Episode 192\tAverage Score: 38.7005\n",
      "Best episode so far!                \n",
      "Episode 193\tAverage Score: 38.7021\n",
      "Best episode so far!                \n",
      "Episode 194\tAverage Score: 38.7116\n",
      "Best episode so far!                \n",
      "Episode 195\tAverage Score: 38.7215\n",
      "Episode 200\tAverage Score: 38.69\n",
      "Episode 225\tAverage Score: 38.57\n",
      "Episode 250\tAverage Score: 38.50\n",
      "Episode 275\tAverage Score: 38.42\n",
      "Episode 300\tAverage Score: 38.48\n",
      "Episode 325\tAverage Score: 38.42\n",
      "Episode 350\tAverage Score: 38.43\n",
      "Episode 375\tAverage Score: 38.48\n",
      "Training stopped. Best score not matched or exceeded for 200 episodes\n"
     ]
    }
   ],
   "source": [
    "agent = Agent(state_size=state_size, action_size=action_size, seed=123)\n",
    "scores, avgs = ddpg(agent)"
   ]
  },
  {
   "cell_type": "code",
   "execution_count": 10,
   "metadata": {},
   "outputs": [
    {
     "data": {
      "image/png": "[encoded data removed]",
      "text/plain": [
       "<Figure size 432x288 with 1 Axes>"
      ]
     },
     "metadata": {
      "needs_background": "light"
     },
     "output_type": "display_data"
    }
   ],
   "source": [
    "fig = plt.figure()\n",
    "plt.subplot()\n",
    "plt.plot(np.arange(1, len(scores)+1), scores, label='Scores')\n",
    "plt.plot(np.arange(1, len(scores)+1), avgs, label='Moving Average')\n",
    "plt.ylabel('Score')\n",
    "plt.xlabel('Episode #')\n",
    "plt.legend(loc='lower right')\n",
    "plt.show()"
   ]
  },
  {
   "cell_type": "code",
   "execution_count": 11,
   "metadata": {},
   "outputs": [
    {
     "name": "stdout",
     "output_type": "stream",
     "text": [
      "Total score (averaged over agents) this episode: 38.550999138318005\n"
     ]
    }
   ],
   "source": [
    "agent = Agent(state_size=state_size, action_size=action_size, seed=123)\n",
    "agent.actor_local.load_state_dict(torch.load('checkpoint_actor_reacher_20.pth'))\n",
    "agent.critic_local.load_state_dict(torch.load('checkpoint_critic_reacher_20.pth'))\n",
    "\n",
    "env_info = env.reset(train_mode=False)[brain_name]     # reset the environment    \n",
    "states = env_info.vector_observations                  # get the current state (for each agent)\n",
    "scores = np.zeros(num_agents)                          # initialize the score (for each agent)\n",
    "while True:\n",
    "    actions = agent.act(states, add_noise=False)       # select an action (for each agent)\n",
    "    env_info = env.step(actions)[brain_name]           # send all actions to tne environment\n",
    "    next_states = env_info.vector_observations         # get next state (for each agent)\n",
    "    rewards = env_info.rewards                         # get reward (for each agent)\n",
    "    dones = env_info.local_done                        # see if episode finished\n",
    "    scores += env_info.rewards                         # update the score (for each agent)\n",
    "    states = next_states                               # roll over states to next time step\n",
    "    if np.any(dones):                                  # exit loop if episode finished\n",
    "        break\n",
    "print('Total score (averaged over agents) this episode: {}'.format(np.mean(scores)))"
   ]
  },
  {
   "cell_type": "code",
   "execution_count": 12,
   "metadata": {},
   "outputs": [],
   "source": [
    "env.close()"
   ]
  },
  {
   "cell_type": "markdown",
   "metadata": {},
   "source": [
    "### Future Improvements\n",
    "\n",
    "To further improve the agent in the future I would like to improve the agent by having it be asynchronus. This would allow for me to then parallelize training by having each instance be ran seperately. Currently the actions for all 20 instances are selected simultaneously. By being able to run multiple smaller networks at same time, this should make for faster training."
   ]
  }
 ],
 "metadata": {
  "kernelspec": {
   "display_name": "Python 3",
   "language": "python",
   "name": "python3"
  },
  "language_info": {
   "codemirror_mode": {
    "name": "ipython",
    "version": 3
   },
   "file_extension": ".py",
   "mimetype": "text/x-python",
   "name": "python",
   "nbconvert_exporter": "python",
   "pygments_lexer": "ipython3",
   "version": "3.6.7"
  }
 },
 "nbformat": 4,
 "nbformat_minor": 2
}
